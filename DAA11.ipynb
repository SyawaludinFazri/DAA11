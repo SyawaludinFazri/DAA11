{
  "nbformat": 4,
  "nbformat_minor": 0,
  "metadata": {
    "colab": {
      "name": "DAA11.ipynb",
      "provenance": []
    },
    "kernelspec": {
      "name": "python3",
      "display_name": "Python 3"
    },
    "language_info": {
      "name": "python"
    }
  },
  "cells": [
    {
      "cell_type": "code",
      "metadata": {
        "id": "kCwZgR3Y1nX1"
      },
      "source": [
        "# a------b\n",
        "# |      |\n",
        "# |      |\n",
        "# c------d-------e"
      ],
      "execution_count": null,
      "outputs": []
    },
    {
      "cell_type": "code",
      "metadata": {
        "colab": {
          "base_uri": "https://localhost:8080/"
        },
        "id": "DbKaLJsB7by3",
        "outputId": "dd66402d-3878-428a-e5d0-108ba1024c43"
      },
      "source": [
        "# Create the dictionary with graph elments\n",
        "graph = {\"a\"   : [\"b\",\"c\"],\n",
        "         \"b\"   : [\"a\", \"d\"],\n",
        "         \"c\"   : [\"a\", \"d\"],\n",
        "         \"d\"   : [\"e\"],\n",
        "         \"e\"   : [\"d\"]\n",
        "\n",
        "         }\n",
        "\n",
        "         # print the graph\n",
        "print(graph)"
      ],
      "execution_count": null,
      "outputs": [
        {
          "output_type": "stream",
          "name": "stdout",
          "text": [
            "{'a': ['b', 'c'], 'b': ['a', 'd'], 'c': ['a', 'd'], 'd': ['e'], 'e': ['d']}\n"
          ]
        }
      ]
    },
    {
      "cell_type": "code",
      "metadata": {
        "id": "xz3bK4VH9Ms5"
      },
      "source": [
        "# T------U------V\n",
        "# |      |      |\n",
        "# W-------------X      |\n",
        "# |      |      |\n",
        "# Z             S"
      ],
      "execution_count": null,
      "outputs": []
    },
    {
      "cell_type": "code",
      "metadata": {
        "colab": {
          "base_uri": "https://localhost:8080/"
        },
        "id": "-I5ZKK_N9imK",
        "outputId": "4c59f288-b9b3-4d45-cda0-4ba2efd4ef39"
      },
      "source": [
        "# Create the dictionary with graph elments\n",
        "graph = {\"T\"   : [\"U\",\"W\"],\n",
        "         \"U\"   : [\"V\", \"T\"],\n",
        "         \"V\"   : [\"U\", \"X\"],\n",
        "         \"W\"   : [\"X\",\"Z\",\"T\"],\n",
        "         \"X\"   : [\"w\",\"S\",\"V\"],\n",
        "         \"Z\"   : [\"W\"],\n",
        "         \"S\"   : [\"X\",]\n",
        "\n",
        "         }\n",
        "\n",
        "         # print the graph\n",
        "print(graph)"
      ],
      "execution_count": null,
      "outputs": [
        {
          "output_type": "stream",
          "name": "stdout",
          "text": [
            "{'T': ['U', 'W'], 'U': ['V', 'T'], 'V': ['U', 'X'], 'W': ['X', 'Z', 'T'], 'X': ['w', 'S', 'V'], 'Z': ['W'], 'S': ['X']}\n"
          ]
        }
      ]
    },
    {
      "cell_type": "code",
      "metadata": {
        "colab": {
          "base_uri": "https://localhost:8080/"
        },
        "id": "rj3Jk97tAxpd",
        "outputId": "03cfdc9f-3a01-455b-b23b-4c6a186b7b10"
      },
      "source": [
        "# R------O------M\n",
        "# |      |      |\n",
        "# L------P------N \n",
        "\n",
        "# Create the dictionary with graph elments\n",
        "graph = {\"R\"   : [\"O\",\"L\"],\n",
        "         \"O\"   : [\"M\", \"R\",\"P\"],\n",
        "         \"M\"   : [\"O\", \"N\"],\n",
        "         \"L\"   : [\"R\",\"P\"],\n",
        "         \"P\"   : [\"O\",\"L\",\"N\"],\n",
        "         \"N\"   : [\"M\",\"P\"],\n",
        "         \n",
        "\n",
        "         }\n",
        "\n",
        "         # print the graph\n",
        "print(graph)"
      ],
      "execution_count": null,
      "outputs": [
        {
          "output_type": "stream",
          "name": "stdout",
          "text": [
            "{'R': ['O', 'L'], 'O': ['M', 'R', 'P'], 'M': ['O', 'N'], 'L': ['R', 'P'], 'P': ['O', 'N', 'L'], 'N': ['M', 'P']}\n"
          ]
        }
      ]
    },
    {
      "cell_type": "code",
      "metadata": {
        "colab": {
          "base_uri": "https://localhost:8080/"
        },
        "id": "-VKflSvuDBQl",
        "outputId": "9ea784e2-9c27-468d-c94c-4f6fa8d840c5"
      },
      "source": [
        "class graph:\n",
        "  def __init__(self,gdict=None):\n",
        "    if gdict is None:\n",
        "      gdict = []\n",
        "    self.gdict = gdict \n",
        "\n",
        "# Get the keys of the dictionary\n",
        "  def getVertices(self):\n",
        "    return list(self.gdict.keys())\n",
        "\n",
        "# Create the dictionary with graph elemnts\n",
        "graph_elements = {   \"a\" : [\"b\",\"c\"],\n",
        "                  \"b\" : [\"a\", \"d\"],\n",
        "                  \"c\" : [\"a\", \"d\"],\n",
        "                  \"d\" : [\"e\"],\n",
        "                  \"e\" : [\"d\"]\n",
        "                }\n",
        "\n",
        "g = graph(graph_elements)\n",
        "\n",
        "print(g.getVertices())"
      ],
      "execution_count": null,
      "outputs": [
        {
          "output_type": "stream",
          "name": "stdout",
          "text": [
            "['a', 'b', 'c', 'd', 'e']\n"
          ]
        }
      ]
    },
    {
      "cell_type": "code",
      "metadata": {
        "colab": {
          "base_uri": "https://localhost:8080/"
        },
        "id": "35HfHI2bHwyU",
        "outputId": "959daff2-08e8-4cca-8cf4-257438e2c282"
      },
      "source": [
        "class graph:\n",
        "  def __init__(self,gdict=None):\n",
        "    if gdict is None:\n",
        "      gdict = []\n",
        "    self.gdict = gdict \n",
        "\n",
        "# Get the keys of the dictionary\n",
        "  def getVertices(self):\n",
        "    return list(self.gdict.keys())\n",
        "\n",
        "# Create the dictionary with graph elemnts\n",
        "graph_elements = {\"T\"   : [\"U\",\"W\"],\n",
        "                  \"U\"   : [\"V\", \"T\"],\n",
        "                  \"V\"   : [\"U\", \"X\"],\n",
        "                  \"W\"   : [\"X\",\"Z\",\"T\"],\n",
        "                  \"X\"   : [\"w\",\"S\",\"V\"],\n",
        "                  \"Z\"   : [\"W\"],\n",
        "                  \"S\"   : [\"X\",]\n",
        "\n",
        "                 }\n",
        "\n",
        "g = graph(graph_elements)\n",
        "\n",
        "print(g.getVertices())"
      ],
      "execution_count": null,
      "outputs": [
        {
          "output_type": "stream",
          "name": "stdout",
          "text": [
            "['T', 'U', 'V', 'W', 'X', 'Z', 'S']\n"
          ]
        }
      ]
    },
    {
      "cell_type": "code",
      "metadata": {
        "colab": {
          "base_uri": "https://localhost:8080/"
        },
        "id": "EydvycLSIkBa",
        "outputId": "ba262664-747e-421f-bea3-a1c5a9b17683"
      },
      "source": [
        "class graph:\n",
        "  def __init__(self,gdict=None):\n",
        "    if gdict is None:\n",
        "      gdict = []\n",
        "    self.gdict = gdict \n",
        "\n",
        "# Get the keys of the dictionary\n",
        "  def getVertices(self):\n",
        "    return list(self.gdict.keys())\n",
        "\n",
        "# Create the dictionary with graph elemnts\n",
        "graph_elements = {\"R\"   : [\"O\",\"L\"],\n",
        "                  \"O\"   : [\"M\", \"R\",\"P\"],\n",
        "                  \"M\"   : [\"O\", \"N\"],\n",
        "                  \"L\"   : [\"R\",\"P\"],\n",
        "                  \"P\"   : [\"O\",\"L\",\"N\"],\n",
        "                  \"N\"   : [\"M\",\"P\"],\n",
        "         \n",
        "\n",
        "                 }\n",
        "\n",
        "\n",
        "g = graph(graph_elements)\n",
        "\n",
        "print(g.getVertices())"
      ],
      "execution_count": null,
      "outputs": [
        {
          "output_type": "stream",
          "name": "stdout",
          "text": [
            "['R', 'O', 'M', 'L', 'P', 'N']\n"
          ]
        }
      ]
    },
    {
      "cell_type": "code",
      "metadata": {
        "colab": {
          "base_uri": "https://localhost:8080/"
        },
        "id": "2U0RUGc7O1xY",
        "outputId": "fd6b32ee-355e-4fa2-f238-daf134d8337f"
      },
      "source": [
        "#Menampilkan Sudut Pada Graph\n",
        "class graph:\n",
        "    def __init__(self,gdict=None):\n",
        "        if gdict is None:\n",
        "            gdict = {}\n",
        "        self.gdict = gdict \n",
        "    \n",
        "    def edges(self):\n",
        "        return self.findedges()\n",
        "\n",
        "    def findedges(self):\n",
        "        edgename = []\n",
        "        for vrtx in self.gdict:\n",
        "            for nxtvrtx in self.gdict[vrtx]:\n",
        "                if {nxtvrtx, vrtx} not in edgename:\n",
        "                    edgename.append({vrtx, nxtvrtx})\n",
        "        return edgename\n",
        "\n",
        "graph_elements = { \"a\" : [\"b\",\"c\"],\n",
        "                  \"b\" : [\"a\", \"d\"],\n",
        "                  \"c\" : [\"a\", \"d\"],\n",
        "                  \"d\" : [\"e\"],\n",
        "                  \"e\" : [\"d\"]\n",
        "                }\n",
        "\n",
        "\n",
        "g = graph(graph_elements)\n",
        "\n",
        "print(g.edges())"
      ],
      "execution_count": null,
      "outputs": [
        {
          "output_type": "stream",
          "name": "stdout",
          "text": [
            "[{'a', 'b'}, {'a', 'c'}, {'d', 'b'}, {'c', 'd'}, {'d', 'e'}]\n"
          ]
        }
      ]
    },
    {
      "cell_type": "code",
      "metadata": {
        "colab": {
          "base_uri": "https://localhost:8080/"
        },
        "id": "B5SmV9UEO4pc",
        "outputId": "fd681432-ad29-47bf-d891-558c388dee11"
      },
      "source": [
        "#Menampilkan Sudut Pada Graph\n",
        "class graph:\n",
        "    def __init__(self,gdict=None):\n",
        "        if gdict is None:\n",
        "            gdict = {}\n",
        "        self.gdict = gdict \n",
        "    \n",
        "    def edges(self):\n",
        "        return self.findedges()\n",
        "\n",
        "    def findedges(self):\n",
        "        edgename = []\n",
        "        for vrtx in self.gdict:\n",
        "            for nxtvrtx in self.gdict[vrtx]:\n",
        "                if {nxtvrtx, vrtx} not in edgename:\n",
        "                    edgename.append({vrtx, nxtvrtx})\n",
        "        return edgename\n",
        "\n",
        "grap_elements = {\"T\"   : [\"U\",\"W\"],\n",
        "                 \"U\"   : [\"V\", \"T\"],\n",
        "                 \"V\"   : [\"U\", \"X\"],\n",
        "                 \"W\"   : [\"X\",\"Z\",\"T\"],\n",
        "                 \"X\"   : [\"w\",\"S\",\"V\"],\n",
        "                 \"Z\"   : [\"W\"],\n",
        "                 \"S\"   : [\"X\",]\n",
        "\n",
        "                 }\n",
        "g = graph (grap_elements)\n",
        "\n",
        "print(g.edges())"
      ],
      "execution_count": null,
      "outputs": [
        {
          "output_type": "stream",
          "name": "stdout",
          "text": [
            "[{'T', 'U'}, {'T', 'W'}, {'U', 'V'}, {'X', 'V'}, {'X', 'W'}, {'Z', 'W'}, {'w', 'X'}, {'S', 'X'}]\n"
          ]
        }
      ]
    },
    {
      "cell_type": "code",
      "metadata": {
        "colab": {
          "base_uri": "https://localhost:8080/"
        },
        "id": "OzUme7AyR2TQ",
        "outputId": "6791643e-ff3f-4b27-c2eb-29e5814c666d"
      },
      "source": [
        "# Menambah Vertex / Simpul\n",
        "class graph:\n",
        "    def __init__(self,gdict=None):\n",
        "        if gdict is None:\n",
        "            gdict = {}\n",
        "        self.gdict = gdict\n",
        " \n",
        "    def getVertices(self):\n",
        "        return list(self.gdict.keys())\n",
        "    \n",
        "# Add the vertex as a key\n",
        "    def addVertex(self, vrtx):\n",
        "        if vrtx not in self.gdict:\n",
        "            self.gdict[vrtx] = []\n",
        "\n",
        "# Create the dictionary with graph elements\n",
        "grap_elements = { \"a\" : [\"b\",\"c\"],\n",
        "                  \"b\" : [\"a\",\"d\"],\n",
        "                  \"c\" : [\"a\",\"d\"],\n",
        "                  \"d\" : [\"e\"],\n",
        "                  \"e\" : [\"d\"]\n",
        "                 }\n",
        "\n",
        "g = graph(graph_elements)\n",
        "\n",
        "g.addVertex(\"f\")\n",
        "\n",
        "print(g.getVertices())"
      ],
      "execution_count": null,
      "outputs": [
        {
          "output_type": "stream",
          "name": "stdout",
          "text": [
            "['a', 'b', 'c', 'd', 'e', 'f']\n"
          ]
        }
      ]
    },
    {
      "cell_type": "code",
      "metadata": {
        "colab": {
          "base_uri": "https://localhost:8080/"
        },
        "id": "W6Ym_nQ-T1BN",
        "outputId": "361a2380-f5a7-41d7-fbeb-106a4c7cbbb6"
      },
      "source": [
        "# Menambah Vertex / Simpul\n",
        "class graph:\n",
        "    def __init__(self,gdict=None):\n",
        "        if gdict is None:\n",
        "            gdict = {}\n",
        "        self.gdict = gdict\n",
        " \n",
        "    def getVertices(self):\n",
        "        return list(self.gdict.keys())\n",
        "    \n",
        "# Add the vertex as a key\n",
        "    def addVertex(self, vrtx):\n",
        "        if vrtx not in self.gdict:\n",
        "            self.gdict[vrtx] = []\n",
        "\n",
        "# Create the dictionary with graph elements\n",
        "graph_elements = {\"R\"   : [\"O\",\"L\"],\n",
        "                  \"O\"   : [\"M\", \"R\",\"P\"],\n",
        "                  \"M\"   : [\"O\", \"N\"],\n",
        "                  \"L\"   : [\"R\",\"P\"],\n",
        "                  \"P\"   : [\"O\",\"L\",\"N\"],\n",
        "                  \"N\"   : [\"M\",\"P\"],\n",
        "         \n",
        "\n",
        "                 }\n",
        "\n",
        "g = graph(graph_elements)\n",
        "\n",
        "g.addVertex(\"Q\")\n",
        "\n",
        "print(g.getVertices())"
      ],
      "execution_count": null,
      "outputs": [
        {
          "output_type": "stream",
          "name": "stdout",
          "text": [
            "['R', 'O', 'M', 'L', 'P', 'N', 'Q']\n"
          ]
        }
      ]
    },
    {
      "cell_type": "code",
      "metadata": {
        "colab": {
          "base_uri": "https://localhost:8080/"
        },
        "id": "onkT6jfDYmb7",
        "outputId": "0efedd4f-d46c-47ca-8705-625b6a7f3d2f"
      },
      "source": [
        "class graph:\n",
        "    def __init__(self,gdict=None):\n",
        "        if gdict is None:\n",
        "            gdict = {}\n",
        "        self.gdict = gdict\n",
        "        \n",
        "    def edges(self):\n",
        "        return self.findedges()\n",
        "\n",
        "# Add the new edge\n",
        "    \n",
        "    def AddEdge(self, edge):\n",
        "        edge = set(edge)\n",
        "        (vrtx1, vrtx2) = tuple(edge)\n",
        "        if vrtx1 in self.gdict:\n",
        "            self.gdict[vrtx1].append(vrtx2)\n",
        "        else:\n",
        "            self.gdict[vrtx1] = [vrtx2]\n",
        "            \n",
        "# List the edge names\n",
        "    def findedges(self):\n",
        "        edgename = []\n",
        "        for vrtx in self.gdict:\n",
        "            for nxtvrtx in self.gdict[vrtx]:\n",
        "                if {nxtvrtx, vrtx} not in edgename:\n",
        "                    edgename.append({vrtx, nxtvrtx})\n",
        "        return edgename\n",
        "\n",
        "grap_elements = { \"a\" : [\"b\",\"c\"],\n",
        "                  \"b\" : [\"a\",\"d\"],\n",
        "                  \"c\" : [\"a\",\"d\"],\n",
        "                  \"d\" : [\"e\"],\n",
        "                  \"e\" : [\"d\"]\n",
        "                 }\n",
        "\n",
        "g = graph(graph_elements)\n",
        "g.AddEdge({'a','e'})\n",
        "g.AddEdge({'a','c'})\n",
        "print(g.edges())"
      ],
      "execution_count": null,
      "outputs": [
        {
          "output_type": "stream",
          "name": "stdout",
          "text": [
            "[{'O', 'R'}, {'L', 'R'}, {'M', 'O'}, {'P', 'O'}, {'M', 'N'}, {'P', 'L'}, {'P', 'N'}, {'a', 'e'}, {'a', 'c'}]\n"
          ]
        }
      ]
    }
  ]
}